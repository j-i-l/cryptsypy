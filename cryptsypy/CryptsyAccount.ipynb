{
 "metadata": {
  "name": ""
 },
 "nbformat": 3,
 "nbformat_minor": 0,
 "worksheets": [
  {
   "cells": [
    {
     "cell_type": "code",
     "collapsed": false,
     "input": [
      "class Account():\n",
      "    def __init__(self,):\n",
      "        \"\"\"\n",
      "            This class is designed to hold all information specific to\n",
      "                a user account on cryptsy.com.\n",
      "            Be carefull the secret (priv_key)\n",
      "        \"\"\"\n",
      "        self.CryptoAdresses = {}\n",
      "        self.CryptoAdresses['LTC'] = 'LMGgCFsxJBjkPwAW9bn5MnZG4vyTGv1aJr'\n",
      "        self.pub_key = ''\n",
      "        self.priv_key = ''\n",
      "        return None"
     ],
     "language": "python",
     "metadata": {},
     "outputs": []
    }
   ],
   "metadata": {}
  }
 ]
}