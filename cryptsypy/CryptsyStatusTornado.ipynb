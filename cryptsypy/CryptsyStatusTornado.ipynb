{
 "metadata": {
  "name": ""
 },
 "nbformat": 3,
 "nbformat_minor": 0,
 "worksheets": [
  {
   "cells": [
    {
     "cell_type": "code",
     "collapsed": false,
     "input": [
      "from CryptsyStatus import Status"
     ],
     "language": "python",
     "metadata": {},
     "outputs": [],
     "prompt_number": 2
    },
    {
     "cell_type": "code",
     "collapsed": false,
     "input": [
      "class StatusTornado(Status):\n",
      "    def __init__(self,):\n",
      "        CryptsyStatus.__init__(self,)\n",
      "        \n",
      "    def get_TornadoRevenue(self,):\n",
      "        self.TornadoRevenue = {}\n",
      "        for click in self.Clicks.keys():\n",
      "            self.TornadoRevenue[click] = {}\n",
      "            for orien in self.Clicks[click]:\n",
      "                revenue = 1.0\n",
      "                for cur in orien:\n",
      "                    revenue = revenue*self.PricesLast[cur]*self.fee\n",
      "                self.TornadoRevenue[click][tuple(orien)] = revenue\n",
      "        return 0"
     ],
     "language": "python",
     "metadata": {},
     "outputs": [],
     "prompt_number": 3
    }
   ],
   "metadata": {}
  }
 ]
}