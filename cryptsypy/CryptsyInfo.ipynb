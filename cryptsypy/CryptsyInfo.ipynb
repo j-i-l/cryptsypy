{
 "metadata": {
  "name": ""
 },
 "nbformat": 3,
 "nbformat_minor": 0,
 "worksheets": [
  {
   "cells": [
    {
     "cell_type": "code",
     "collapsed": false,
     "input": [
      "class Info(object):\n",
      "    def __init__(self,):\n",
      "        \"\"\"\n",
      "            This class holds esentially information about www.cryptsy.com\n",
      "            At some time some of this information might be stored in \n",
      "                the form of files.\n",
      "        \"\"\"\n",
      "        self.pubDomain = 'http://pubapi.cryptsy.com' #http://... before\n",
      "        self.pubApiPath = '/api.php'\n",
      "        self.privDomain = 'https://www.cryptsy.com'\n",
      "        self.privApiPath = '/api'\n",
      "        #this might be put into a config file at some point\n",
      "        self.currenices = ()\n",
      "                          "
     ],
     "language": "python",
     "metadata": {},
     "outputs": []
    }
   ],
   "metadata": {}
  }
 ]
}